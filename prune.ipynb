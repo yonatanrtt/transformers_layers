{
  "nbformat": 4,
  "nbformat_minor": 0,
  "metadata": {
    "colab": {
      "provenance": [],
      "authorship_tag": "ABX9TyNWkjkq1ZjVCSiAOoI193zT",
      "include_colab_link": true
    },
    "kernelspec": {
      "name": "python3",
      "display_name": "Python 3"
    },
    "language_info": {
      "name": "python"
    }
  },
  "cells": [
    {
      "cell_type": "markdown",
      "metadata": {
        "id": "view-in-github",
        "colab_type": "text"
      },
      "source": [
        "<a href=\"https://colab.research.google.com/github/yonatanrtt/transformers_layers/blob/main/prune.ipynb\" target=\"_parent\"><img src=\"https://colab.research.google.com/assets/colab-badge.svg\" alt=\"Open In Colab\"/></a>"
      ]
    },
    {
      "cell_type": "code",
      "execution_count": 14,
      "metadata": {
        "colab": {
          "base_uri": "https://localhost:8080/"
        },
        "id": "3bCGeXRzLBK3",
        "outputId": "ba04a3b0-298a-4178-9cc6-4af615341e4c"
      },
      "outputs": [
        {
          "output_type": "stream",
          "name": "stdout",
          "text": [
            "Cloning into 'transformers'...\n",
            "remote: Enumerating objects: 109252, done.\u001b[K\n",
            "remote: Counting objects: 100% (558/558), done.\u001b[K\n",
            "remote: Compressing objects: 100% (312/312), done.\u001b[K\n",
            "remote: Total 109252 (delta 309), reused 408 (delta 226), pack-reused 108694\u001b[K\n",
            "Receiving objects: 100% (109252/109252), 101.84 MiB | 24.36 MiB/s, done.\n",
            "Resolving deltas: 100% (80723/80723), done.\n"
          ]
        }
      ],
      "source": [
        "# !git clone https://github.com/huggingface/transformers.git\n",
        "# !mv transformers/ transformers_aa/\n",
        "# !cp -R transformers_aa/src/transformers/ transformers/\n",
        "# import shutil\n",
        "# shutil.rmtree('transformers_aa')\t\n",
        "# !mv transformers/ transformers_new/"
      ]
    },
    {
      "cell_type": "code",
      "source": [],
      "metadata": {
        "id": "awTofONpNwDE"
      },
      "execution_count": null,
      "outputs": []
    }
  ]
}