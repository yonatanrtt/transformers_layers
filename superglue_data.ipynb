{
  "nbformat": 4,
  "nbformat_minor": 0,
  "metadata": {
    "colab": {
      "name": "superglue_data.ipynb",
      "provenance": [],
      "collapsed_sections": [],
      "authorship_tag": "ABX9TyMIBLRMeIq3vrH8jftnlLln",
      "include_colab_link": true
    },
    "kernelspec": {
      "name": "python3",
      "display_name": "Python 3"
    },
    "language_info": {
      "name": "python"
    }
  },
  "cells": [
    {
      "cell_type": "markdown",
      "metadata": {
        "id": "view-in-github",
        "colab_type": "text"
      },
      "source": [
        "<a href=\"https://colab.research.google.com/github/yonatanrtt/transformers_layers/blob/main/superglue_data.ipynb\" target=\"_parent\"><img src=\"https://colab.research.google.com/assets/colab-badge.svg\" alt=\"Open In Colab\"/></a>"
      ]
    },
    {
      "cell_type": "code",
      "source": [
        "!pip install -Uqq transformers datasets wandb --quiet"
      ],
      "metadata": {
        "id": "HbI6PmxSm3kw"
      },
      "execution_count": null,
      "outputs": []
    },
    {
      "cell_type": "code",
      "source": [
        "from datasets import load_dataset, concatenate_datasets\n",
        "import wandb\n",
        "import pandas as pd"
      ],
      "metadata": {
        "id": "rMn96gjSr36G"
      },
      "execution_count": null,
      "outputs": []
    },
    {
      "cell_type": "code",
      "source": [
        "def get_datasets():\n",
        "    dataset = \"super_glue\"\n",
        "    copa = load_dataset(dataset, \"copa\")\n",
        "    cb = load_dataset(dataset, \"cb\")\n",
        "    rte = load_dataset(dataset, \"rte\")\n",
        "    wic = load_dataset(dataset, \"wic\")\n",
        "    return copa, cb, rte, wic"
      ],
      "metadata": {
        "id": "PH-8Yry1vQAZ"
      },
      "execution_count": null,
      "outputs": []
    },
    {
      "cell_type": "code",
      "source": [
        "import torch\n",
        "\n",
        "class CopaDataset(torch.utils.data.Dataset):\n",
        "    def __init__(self, _data, _tokenizer):\n",
        "        self.premise = list(_data[\"_premise\"].astype(\"str\"))\n",
        "        self.choice1 = list(_data[\"_choice1\"].astype(\"str\")) \n",
        "        self.choice2 = list(_data[\"_choice2\"].astype(\"str\"))  \n",
        "        self.question = list(_data[\"_question\"].astype(\"str\"))   \n",
        "        self.label = list(_data[\"_label\"].astype(\"int\"))  \n",
        "        self.tokenizer = _tokenizer\n",
        "\n",
        "    def __getitem__(self, _idx):\n",
        "        connector = \"because\" if self.question[_idx] == \"cause\" else \"so\"\n",
        "        answers = [self._choice1[_idx], self._choice2[_idx]]\n",
        "\n",
        "        positive_answers_idx = self._label[_idx]\n",
        "        negative_answers_idx = 1 - positive_answers_idx\n",
        "\n",
        "        positive = connector.join((self.premise[_idx]), answers[positive_answers_idx])\n",
        "        negative = connector.join((self.premise[_idx]), answers[negative_answers_idx])\n",
        "\n",
        "        positive_tokenized = self.tokenizer.encode(positive, padding=\"max_length\", truncation=True, return_tensors=\"pt\")\n",
        "        negative_tokenized = self.tokenizer.encode(negative, padding=\"max_length\", truncation=True, return_tensors=\"pt\")\n",
        "\n",
        "\n",
        "        return positive_tokenized, negative_tokenized\n",
        "\n",
        "    def __len__(self):\n",
        "        return len(self.label)"
      ],
      "metadata": {
        "id": "tn6w6yYlwqiR"
      },
      "execution_count": null,
      "outputs": []
    }
  ]
}